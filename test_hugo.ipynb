{
 "cells": [
  {
   "cell_type": "code",
   "execution_count": 1,
   "metadata": {},
   "outputs": [],
   "source": [
    "from skimage.io import imread"
   ]
  },
  {
   "cell_type": "code",
   "execution_count": 2,
   "metadata": {},
   "outputs": [],
   "source": [
    "from e_reconnaissance_caract import *\n",
    "from f_genere_caract_degrades import *"
   ]
  },
  {
   "cell_type": "code",
   "execution_count": 3,
   "metadata": {},
   "outputs": [],
   "source": [
    "generate_degraded_images(\"LETTRES/ARIAL/Alphabet_arial_chiffres\", \"DEGRADE_LETTRES\")\n",
    "generate_degraded_images(\"LETTRES/ARIAL/Alphabet_arial_majuscule\", \"DEGRADE_LETTRES\")\n",
    "generate_degraded_images(\"LETTRES/ARIAL/Alphabet_arial_minuscule\", \"DEGRADE_LETTRES\")"
   ]
  },
  {
   "cell_type": "code",
   "execution_count": 4,
   "metadata": {},
   "outputs": [],
   "source": [
    "generate_degraded_images(\"LETTRES/COMFORTA/Alphabet_comforta_chiffres\", \"DEGRADE_LETTRES\")\n",
    "generate_degraded_images(\"LETTRES/COMFORTA/Alphabet_comforta_majuscule\", \"DEGRADE_LETTRES\")\n",
    "generate_degraded_images(\"LETTRES/COMFORTA/Alphabet_comforta_minuscule\", \"DEGRADE_LETTRES\")"
   ]
  },
  {
   "cell_type": "code",
   "execution_count": 5,
   "metadata": {},
   "outputs": [],
   "source": [
    "generate_degraded_images(\"LETTRES/COMIC_SANS_MS/Alphabet_comic-sans_MS_chiffres\", \"DEGRADE_LETTRES\")\n",
    "generate_degraded_images(\"LETTRES/COMIC_SANS_MS/Alphabet_comic-sans_MS_majuscule\", \"DEGRADE_LETTRES\")\n",
    "generate_degraded_images(\"LETTRES/COMIC_SANS_MS/Alphabet_comic-sans_MS_minuscule\", \"DEGRADE_LETTRES\")"
   ]
  },
  {
   "cell_type": "code",
   "execution_count": 6,
   "metadata": {},
   "outputs": [],
   "source": [
    "generate_degraded_images(\"LETTRES/OPEN_SANS/Alphabet_open_sans_chiffres\", \"DEGRADE_LETTRES\")\n",
    "generate_degraded_images(\"LETTRES/OPEN_SANS/Alphabet_open_sans_majuscule\", \"DEGRADE_LETTRES\")\n",
    "generate_degraded_images(\"LETTRES/OPEN_SANS/Alphabet_open_sans_minuscule\", \"DEGRADE_LETTRES\")"
   ]
  },
  {
   "cell_type": "code",
   "execution_count": 7,
   "metadata": {},
   "outputs": [],
   "source": [
    "generate_degraded_images(\"LETTRES/ROBOTO/Alphabet_roboto_chiffres\", \"DEGRADE_LETTRES\")\n",
    "generate_degraded_images(\"LETTRES/ROBOTO/Alphabet_roboto_majuscule\", \"DEGRADE_LETTRES\")\n",
    "generate_degraded_images(\"LETTRES/ROBOTO/Alphabet_roboto_minuscule\", \"DEGRADE_LETTRES\")"
   ]
  },
  {
   "cell_type": "code",
   "execution_count": 8,
   "metadata": {},
   "outputs": [],
   "source": [
    "generate_degraded_images(\"LETTRES/TIMES NEW ROMAN/Alphabet_times_new_roman_chiffres\", \"DEGRADE_LETTRES\")\n",
    "generate_degraded_images(\"LETTRES/TIMES NEW ROMAN/Alphabet_times_new_roman_majuscule\", \"DEGRADE_LETTRES\")\n",
    "generate_degraded_images(\"LETTRES/TIMES NEW ROMAN/Alphabet_times_new_roman_minuscule\", \"DEGRADE_LETTRES\")"
   ]
  },
  {
   "cell_type": "code",
   "execution_count": 9,
   "metadata": {},
   "outputs": [],
   "source": [
    "c = Classifieur(30)\n",
    "c.load_data_degraded(\"DEGRADE_LETTRES\")\n",
    "c.train()\n",
    "c.generate_center_dict()"
   ]
  },
  {
   "cell_type": "code",
   "execution_count": 22,
   "metadata": {},
   "outputs": [
    {
     "name": "stdout",
     "output_type": "stream",
     "text": [
      "I\n"
     ]
    }
   ],
   "source": [
    "path = \"LETTRES/ARIAL/Alphabet_arial_majuscule/J.png\"\n",
    "img = imread(path, as_gray=True)\n",
    "test = Character(img, \"\")\n",
    "\n",
    "print(c.compare(test))"
   ]
  }
 ],
 "metadata": {
  "kernelspec": {
   "display_name": "Python 3",
   "language": "python",
   "name": "python3"
  },
  "language_info": {
   "codemirror_mode": {
    "name": "ipython",
    "version": 3
   },
   "file_extension": ".py",
   "mimetype": "text/x-python",
   "name": "python",
   "nbconvert_exporter": "python",
   "pygments_lexer": "ipython3",
   "version": "3.9.4"
  }
 },
 "nbformat": 4,
 "nbformat_minor": 2
}
