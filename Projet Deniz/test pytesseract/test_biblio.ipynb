{
 "cells": [
  {
   "cell_type": "markdown",
   "id": "55f02266",
   "metadata": {},
   "source": [
    "## Utilisation des bibliothèques Pytesseract et OpenCV"
   ]
  },
  {
   "cell_type": "markdown",
   "id": "d93780d0",
   "metadata": {},
   "source": [
    "### Influence de la qualité des images"
   ]
  },
  {
   "cell_type": "markdown",
   "id": "2dc22c46",
   "metadata": {},
   "source": [
    "<div>\n",
    "<img src=\"test1.png\" width=\"500\"/>\n",
    "    <center>Fig. 1 : image \"test1.png\"</center>\n",
    "</div>"
   ]
  },
  {
   "cell_type": "code",
   "execution_count": 25,
   "id": "39e60487",
   "metadata": {},
   "outputs": [
    {
     "name": "stdout",
     "output_type": "stream",
     "text": [
      "1. Opinion défendue\n",
      "\n",
      "Grenoble est une ville au coeur des Alpes frangaises. La ville a connu une transformation\n",
      "remarquable en 1968 lorsqu’elle a accueilli les Jeux olympiques d’hiver. Connue pour son\n",
      "paysage alpin pittoresque et son riche patrimoine culturel, elle connait une vague de\n",
      "développement et de modernisation, qui la fait passer du statut de petite ville de province a\n",
      "métropole dynamique. Nous défendrons donc la thése, qui est que les changements\n",
      "survenus dans la ville Grenoble, grace aux J.O. ont eu un impact positif sur son évolution.\n",
      "\n"
     ]
    }
   ],
   "source": [
    "import pytesseract\n",
    "pytesseract.pytesseract.tesseract_cmd=r\"C:\\Program Files\\Tesseract-OCR\\tesseract.exe\"\n",
    "import cv2\n",
    "img=cv2.imread(\"test1.png\")\n",
    "cv2.waitKey(0)\n",
    "cv2.destroyAllWindows()\n",
    "text=pytesseract.image_to_string(img)\n",
    "print(text)"
   ]
  },
  {
   "cell_type": "markdown",
   "id": "c224eb91",
   "metadata": {},
   "source": [
    "<div>\n",
    "<img src=\"test2.png\" width=\"700\"/>\n",
    "    <center>Fig. 2 : image \"test2.png\" (qualité inférieure)</center>\n",
    "</div>"
   ]
  },
  {
   "cell_type": "code",
   "execution_count": 15,
   "id": "11e96555",
   "metadata": {},
   "outputs": [
    {
     "name": "stdout",
     "output_type": "stream",
     "text": [
      "‘Python tesseract isan optical character recognition (OCK) tool for python. That i, will recognize and “read” the text\n",
      "\n"
     ]
    }
   ],
   "source": [
    "import pytesseract\n",
    "pytesseract.pytesseract.tesseract_cmd=r\"C:\\Program Files\\Tesseract-OCR\\tesseract.exe\"\n",
    "import cv2\n",
    "img=cv2.imread(\"test2.png\")\n",
    "cv2.waitKey(0)\n",
    "cv2.destroyAllWindows()\n",
    "text=pytesseract.image_to_string(img)\n",
    "print(text)"
   ]
  },
  {
   "cell_type": "markdown",
   "id": "0a2341c9",
   "metadata": {},
   "source": [
    "La qualité des images influe sur la capacité à reconnaitre le texte."
   ]
  },
  {
   "cell_type": "markdown",
   "id": "4593cba6",
   "metadata": {},
   "source": [
    "### Caractères spéciaux"
   ]
  },
  {
   "cell_type": "markdown",
   "id": "6b25512a",
   "metadata": {},
   "source": [
    "<div>\n",
    "<img src=\"test3.png\" width=\"400\"/>\n",
    "    <center>Fig. 2 : image \"test3.png\"</center>\n",
    "</div>"
   ]
  },
  {
   "cell_type": "code",
   "execution_count": 26,
   "id": "f435a5e5",
   "metadata": {},
   "outputs": [
    {
     "name": "stdout",
     "output_type": "stream",
     "text": [
      "2 - Insérer des caractéres mathématiques\n",
      "\n",
      "NOM DU CARACTERE APERCU RACCOURCI CLAVIER\n",
      "Diése # [Alt+035]\n",
      "Dollar $ [Alt+036]\n",
      "Pourcentage % [Alt+037]\n",
      "Esperluette & [Alt+038]\n",
      "Inférieur < [Alt+060]\n",
      "\n",
      "Egal = [Alt+061]\n",
      "\n"
     ]
    }
   ],
   "source": [
    "import pytesseract\n",
    "pytesseract.pytesseract.tesseract_cmd=r\"C:\\Program Files\\Tesseract-OCR\\tesseract.exe\"\n",
    "import cv2\n",
    "img=cv2.imread(\"test3.png\")\n",
    "cv2.waitKey(0)\n",
    "cv2.destroyAllWindows()\n",
    "text=pytesseract.image_to_string(img)\n",
    "print(text)"
   ]
  },
  {
   "cell_type": "markdown",
   "id": "53d7eeea",
   "metadata": {},
   "source": [
    "### Ecriture manuscrite"
   ]
  },
  {
   "cell_type": "markdown",
   "id": "0070b278",
   "metadata": {},
   "source": [
    "<div>\n",
    "<img src=\"test4.png\" width=\"400\"/>\n",
    "    <center>Fig. 4 : image \"test4.png\"</center>\n",
    "</div>"
   ]
  },
  {
   "cell_type": "code",
   "execution_count": 27,
   "id": "b194a91d",
   "metadata": {},
   "outputs": [
    {
     "name": "stdout",
     "output_type": "stream",
     "text": [
      "\n"
     ]
    }
   ],
   "source": [
    "import pytesseract\n",
    "pytesseract.pytesseract.tesseract_cmd=r\"C:\\Program Files\\Tesseract-OCR\\tesseract.exe\"\n",
    "import cv2\n",
    "img=cv2.imread(\"test4.png\")\n",
    "cv2.waitKey(0)\n",
    "cv2.destroyAllWindows()\n",
    "text=pytesseract.image_to_string(img)\n",
    "print(text)"
   ]
  },
  {
   "cell_type": "markdown",
   "id": "8ff92785",
   "metadata": {},
   "source": [
    "Incapacité à reconnaitre un texte manuscrit."
   ]
  }
 ],
 "metadata": {
  "kernelspec": {
   "display_name": "Python 3 (ipykernel)",
   "language": "python",
   "name": "python3"
  },
  "language_info": {
   "codemirror_mode": {
    "name": "ipython",
    "version": 3
   },
   "file_extension": ".py",
   "mimetype": "text/x-python",
   "name": "python",
   "nbconvert_exporter": "python",
   "pygments_lexer": "ipython3",
   "version": "3.11.5"
  }
 },
 "nbformat": 4,
 "nbformat_minor": 5
}
