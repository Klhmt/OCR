{
 "cells": [
  {
   "cell_type": "markdown",
   "metadata": {},
   "source": [
    "# Génère des caractères dégradés à partir des scans"
   ]
  },
  {
   "cell_type": "code",
   "execution_count": 1,
   "metadata": {},
   "outputs": [],
   "source": [
    "import os\n",
    "import random\n",
    "import numpy as np\n",
    "from skimage import io, transform, util, exposure, filters"
   ]
  },
  {
   "cell_type": "code",
   "execution_count": 2,
   "metadata": {},
   "outputs": [],
   "source": [
    "\n",
    "\n",
    "def degrade_image(nom, image_path, folder_path):\n",
    "    \"\"\"Génère des images dégradés. Codé par ChatGPT 4o\"\"\"\n",
    "    # Charger l'image en niveaux de gris\n",
    "    image = io.imread(image_path, as_gray=True)\n",
    "    \n",
    "    # Créer le dossier s'il n'existe pas\n",
    "    if not os.path.exists(folder_path):\n",
    "        os.makedirs(folder_path)\n",
    "\n",
    "    for i in range(15):\n",
    "        degraded_image = np.copy(image)\n",
    "        applied_alterations = []  # Liste pour stocker les altérations déjà appliquées\n",
    "        \n",
    "        # Appliquer plusieurs altérations aléatoires\n",
    "        for _ in range(random.randint(1, 4)):  # Choisir un nombre aléatoire d'altérations entre 1 et 4\n",
    "            choice = random.choice(['distrorsion', 'étirement', 'rotation', 'perte_contraste', 'flou', 'bruit', 'distorsion_contours'])\n",
    "            \n",
    "            # Vérifier si cette altération a déjà été appliquée\n",
    "            while choice in applied_alterations:\n",
    "                choice = random.choice(['distrorsion', 'étirement', 'rotation', 'perte_contraste', 'flou', 'bruit'])\n",
    "            \n",
    "            # Appliquer l'altération choisie\n",
    "            if choice == 'distrorsion':\n",
    "                #degraded_image = transform.swirl(degraded_image, rotation=random.uniform(0, 2*np.pi/50))\n",
    "                pass\n",
    "            elif choice == 'étirement':\n",
    "                factor = random.uniform(0.8, 1.2)\n",
    "                degraded_image = transform.rescale(degraded_image, scale=(factor, factor))\n",
    "            elif choice == 'rotation':\n",
    "                angle = random.uniform(-2, 2)  # Réduire l'amplitude de la rotation\n",
    "                degraded_image = transform.rotate(degraded_image, angle, mode='edge')  # Utilisation de mode='edge' pour éviter d'ajouter du noir\n",
    "            elif choice == 'perte_contraste':\n",
    "                degraded_image = exposure.adjust_gamma(degraded_image, gamma=random.uniform(0.9, 1.1))\n",
    "            elif choice == 'flou':\n",
    "                degraded_image = filters.gaussian(degraded_image, sigma=random.uniform(0.3, 0.8))\n",
    "            elif choice == 'bruit':\n",
    "                degraded_image = util.random_noise(degraded_image, var=random.uniform(0.0001, 0.001))\n",
    "            \n",
    "            # Ajouter cette altération à la liste des altérations déjà appliquées\n",
    "            applied_alterations.append(choice)\n",
    "        \n",
    "        # Convertir l'image dégradée en uint8\n",
    "        degraded_image = (degraded_image * 255).astype(np.uint8)\n",
    "        \n",
    "        # Enregistrer l'image dégradée\n",
    "        image_name = f\"{os.path.basename(nom)}_{i+1}.png\"\n",
    "        io.imsave(os.path.join(folder_path, image_name), degraded_image)\n",
    "\n",
    "\n",
    "\n",
    "def generate_degraded_images(path_original: str, path_degrade: str):\n",
    "    for filename in os.listdir(path_original):\n",
    "        if filename.endswith(\".jpg\") or filename.endswith(\".jpeg\") or filename.endswith(\".png\"):\n",
    "            image_path = os.path.join(path_original, filename)\n",
    "            degrade_image(image_path.split(\".\")[0], image_path, path_degrade)\n"
   ]
  },
  {
   "cell_type": "markdown",
   "metadata": {},
   "source": [
    "> Exemple d'utilisation\n",
    "\n",
    "```generate_degraded_images(\"~/klem/Alphabet/\", \"~/klem/alphabet_degrade\")```"
   ]
  }
 ],
 "metadata": {
  "kernelspec": {
   "display_name": "Python 3",
   "language": "python",
   "name": "python3"
  },
  "language_info": {
   "codemirror_mode": {
    "name": "ipython",
    "version": 3
   },
   "file_extension": ".py",
   "mimetype": "text/x-python",
   "name": "python",
   "nbconvert_exporter": "python",
   "pygments_lexer": "ipython3",
   "version": "3.11.9"
  }
 },
 "nbformat": 4,
 "nbformat_minor": 2
}
