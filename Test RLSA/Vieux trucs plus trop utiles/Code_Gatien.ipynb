{
 "cells": [
  {
   "cell_type": "code",
   "execution_count": 43,
   "id": "38aa4b75",
   "metadata": {},
   "outputs": [],
   "source": [
    "import aspose.ocr as ocr\n",
    "\n",
    "import numpy as np\n",
    "from PIL import Image"
   ]
  },
  {
   "cell_type": "markdown",
   "id": "96e136b1",
   "metadata": {},
   "source": [
    "# Redressement"
   ]
  },
  {
   "cell_type": "code",
   "execution_count": 44,
   "id": "fe2f4789",
   "metadata": {},
   "outputs": [
    {
     "data": {
      "text/plain": [
       "<aspose.ocr.OcrInput object at 0x10a1dc470>"
      ]
     },
     "execution_count": 44,
     "metadata": {},
     "output_type": "execute_result"
    }
   ],
   "source": [
    "# Instancier l'API Aspose.OCR\n",
    "api = ocr.AsposeOcr()\n",
    "\n",
    "# Initialiser le traitement de l'image\n",
    "filters = ocr.models.preprocessingfilters.PreprocessingFilter()\n",
    "filters.add(filters.auto_skew())\n",
    "\n",
    "# Ajouter une image au lot de reconnaissance et appliquer le filtre de traitement\n",
    "img = ocr.OcrInput(ocr.InputType.SINGLE_IMAGE, filters)\n",
    "img.add('tordu.jpg')\n",
    "\n",
    "#Enregistrer l'image traitée\n",
    "ocr.ImageProcessing.save(img, \"/Users/gatienlopez/Desktop/Projet/Autres ressources/Redressement\")"
   ]
  },
  {
   "cell_type": "markdown",
   "id": "ac5bb6b0",
   "metadata": {},
   "source": [
    "# Binarisation"
   ]
  },
  {
   "cell_type": "code",
   "execution_count": 45,
   "id": "3f27f653",
   "metadata": {
    "scrolled": true
   },
   "outputs": [],
   "source": [
    "# Charge une image depuis le chemin spécifié, convertit en niveaux de gris et stocke dans im_gray\n",
    "im_gray = np.array(Image.open('/Users/gatienlopez/Desktop/Projet/Autres ressources/Redressement/tordu.png').convert('L'))"
   ]
  },
  {
   "cell_type": "code",
   "execution_count": 46,
   "id": "93fd212c",
   "metadata": {},
   "outputs": [],
   "source": [
    "# Définit une valeur de seuil pour la binarisation\n",
    "thresh = 190\n",
    "\n",
    "# Crée un tableau booléen où chaque élément indique si la valeur correspondante dans im_gray dépasse le seuil défini\n",
    "im_bool = im_gray > thresh"
   ]
  },
  {
   "cell_type": "code",
   "execution_count": 47,
   "id": "24fc303d",
   "metadata": {},
   "outputs": [],
   "source": [
    "# Définit une valeur maximale pour la binarisation\n",
    "maxval = 255\n",
    "\n",
    "# Applique la binarisation en multipliant chaque élément de im_gray supérieur au seuil par maxval, les autres restant à 0\n",
    "im_bin = (im_gray > thresh) * maxval"
   ]
  },
  {
   "cell_type": "code",
   "execution_count": 48,
   "id": "9749b747",
   "metadata": {},
   "outputs": [],
   "source": [
    "# Crée un tableau où chaque élément est égal à la valeur correspondante dans im_gray si celle-ci dépasse le seuil, sinon 0\n",
    "im_bin_keep = (im_gray > thresh) * im_gray"
   ]
  },
  {
   "cell_type": "code",
   "execution_count": 49,
   "id": "a8e69f4e",
   "metadata": {},
   "outputs": [],
   "source": [
    "# Convertit le tableau numpy im_bin_keep en un objet image, en le convertissant d'abord en type uint8 pour s'assurer qu'il est dans la plage valide pour les valeurs de pixel\n",
    "# Enregistre ensuite cette image sous le nom \"test.png\"\n",
    "Image.fromarray(np.uint8(im_bin_keep)).save('test.png')"
   ]
  }
 ],
 "metadata": {
  "kernelspec": {
   "display_name": "Python 3 (ipykernel)",
   "language": "python",
   "name": "python3"
  },
  "language_info": {
   "codemirror_mode": {
    "name": "ipython",
    "version": 3
   },
   "file_extension": ".py",
   "mimetype": "text/x-python",
   "name": "python",
   "nbconvert_exporter": "python",
   "pygments_lexer": "ipython3",
   "version": "3.11.8"
  }
 },
 "nbformat": 4,
 "nbformat_minor": 5
}
